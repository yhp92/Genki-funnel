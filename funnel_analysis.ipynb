{
 "cells": [
  {
   "cell_type": "code",
   "execution_count": 1,
   "metadata": {},
   "outputs": [],
   "source": [
    "import numpy as np\n",
    "import pandas as pd\n",
    "import plotly.express as px\n",
    "from plotly import graph_objects as go\n",
    "from ipywidgets import widgets\n",
    "from ipywidgets.embed import embed_minimal_html\n",
    "import warnings\n",
    "warnings.filterwarnings(\"ignore\")"
   ]
  },
  {
   "cell_type": "code",
   "execution_count": 2,
   "metadata": {},
   "outputs": [],
   "source": [
    "user_quests = pd.read_csv('/Users/hanpu/Documents/Genki/final_user_quest.csv')"
   ]
  },
  {
   "cell_type": "code",
   "execution_count": 3,
   "metadata": {},
   "outputs": [],
   "source": [
    "ga = pd.read_csv('google analytics - Pages and screens.csv')"
   ]
  },
  {
   "cell_type": "code",
   "execution_count": 4,
   "metadata": {},
   "outputs": [
    {
     "data": {
      "text/html": [
       "<div>\n",
       "<style scoped>\n",
       "    .dataframe tbody tr th:only-of-type {\n",
       "        vertical-align: middle;\n",
       "    }\n",
       "\n",
       "    .dataframe tbody tr th {\n",
       "        vertical-align: top;\n",
       "    }\n",
       "\n",
       "    .dataframe thead th {\n",
       "        text-align: right;\n",
       "    }\n",
       "</style>\n",
       "<table border=\"1\" class=\"dataframe\">\n",
       "  <thead>\n",
       "    <tr style=\"text-align: right;\">\n",
       "      <th></th>\n",
       "      <th>网页标题和屏幕名称</th>\n",
       "      <th>查看次数</th>\n",
       "      <th>用户数</th>\n",
       "      <th>新用户数</th>\n",
       "      <th>每位用户的浏览量</th>\n",
       "      <th>平均互动时长</th>\n",
       "      <th>唯一身份用户滚动次数</th>\n",
       "      <th>事件数</th>\n",
       "      <th>转化次数</th>\n",
       "      <th>总收益</th>\n",
       "    </tr>\n",
       "  </thead>\n",
       "  <tbody>\n",
       "    <tr>\n",
       "      <th>0</th>\n",
       "      <td>GenkiBox Beta Test NFT Giveaway</td>\n",
       "      <td>12587</td>\n",
       "      <td>6237</td>\n",
       "      <td>6175</td>\n",
       "      <td>2.018118</td>\n",
       "      <td>52.846080</td>\n",
       "      <td>4469</td>\n",
       "      <td>46585</td>\n",
       "      <td>0</td>\n",
       "      <td>0</td>\n",
       "    </tr>\n",
       "    <tr>\n",
       "      <th>1</th>\n",
       "      <td>Rh!noX NFT discount &amp; U Giveaway</td>\n",
       "      <td>8270</td>\n",
       "      <td>1639</td>\n",
       "      <td>1540</td>\n",
       "      <td>5.045760</td>\n",
       "      <td>95.885906</td>\n",
       "      <td>1290</td>\n",
       "      <td>25751</td>\n",
       "      <td>0</td>\n",
       "      <td>0</td>\n",
       "    </tr>\n",
       "    <tr>\n",
       "      <th>2</th>\n",
       "      <td>GENKI TWITTER SPACE X WOWSWAP X BETAMARS</td>\n",
       "      <td>8168</td>\n",
       "      <td>3439</td>\n",
       "      <td>2810</td>\n",
       "      <td>2.375109</td>\n",
       "      <td>60.403606</td>\n",
       "      <td>2876</td>\n",
       "      <td>31624</td>\n",
       "      <td>0</td>\n",
       "      <td>0</td>\n",
       "    </tr>\n",
       "    <tr>\n",
       "      <th>3</th>\n",
       "      <td>GENKI TWITTER SPACE X ONTO WALLET X SIL FINANCE</td>\n",
       "      <td>7642</td>\n",
       "      <td>2899</td>\n",
       "      <td>1765</td>\n",
       "      <td>2.636081</td>\n",
       "      <td>86.454295</td>\n",
       "      <td>2492</td>\n",
       "      <td>28676</td>\n",
       "      <td>0</td>\n",
       "      <td>0</td>\n",
       "    </tr>\n",
       "    <tr>\n",
       "      <th>4</th>\n",
       "      <td>ZEBRA X VERA MYSTERY BOX GIVEAWAY</td>\n",
       "      <td>6500</td>\n",
       "      <td>2722</td>\n",
       "      <td>1720</td>\n",
       "      <td>2.387950</td>\n",
       "      <td>92.100294</td>\n",
       "      <td>2288</td>\n",
       "      <td>25454</td>\n",
       "      <td>0</td>\n",
       "      <td>0</td>\n",
       "    </tr>\n",
       "    <tr>\n",
       "      <th>5</th>\n",
       "      <td>The Project Galaxy &amp; RhizomeDAO AMA Giveaway</td>\n",
       "      <td>3762</td>\n",
       "      <td>1520</td>\n",
       "      <td>1043</td>\n",
       "      <td>2.475000</td>\n",
       "      <td>64.277632</td>\n",
       "      <td>1329</td>\n",
       "      <td>13349</td>\n",
       "      <td>0</td>\n",
       "      <td>0</td>\n",
       "    </tr>\n",
       "    <tr>\n",
       "      <th>6</th>\n",
       "      <td>BABYSWAP X GENKI AMA CAMPAIGN</td>\n",
       "      <td>1502</td>\n",
       "      <td>629</td>\n",
       "      <td>555</td>\n",
       "      <td>2.387917</td>\n",
       "      <td>46.879173</td>\n",
       "      <td>521</td>\n",
       "      <td>5376</td>\n",
       "      <td>0</td>\n",
       "      <td>0</td>\n",
       "    </tr>\n",
       "    <tr>\n",
       "      <th>7</th>\n",
       "      <td>WOWmax Airdrop Program</td>\n",
       "      <td>1354</td>\n",
       "      <td>374</td>\n",
       "      <td>172</td>\n",
       "      <td>3.620321</td>\n",
       "      <td>59.074866</td>\n",
       "      <td>312</td>\n",
       "      <td>4256</td>\n",
       "      <td>0</td>\n",
       "      <td>0</td>\n",
       "    </tr>\n",
       "    <tr>\n",
       "      <th>8</th>\n",
       "      <td>Genki ✖️ BabyWealthyClub 20 NFT Whitelists Giv...</td>\n",
       "      <td>1091</td>\n",
       "      <td>578</td>\n",
       "      <td>275</td>\n",
       "      <td>1.887543</td>\n",
       "      <td>66.399654</td>\n",
       "      <td>497</td>\n",
       "      <td>4122</td>\n",
       "      <td>0</td>\n",
       "      <td>0</td>\n",
       "    </tr>\n",
       "    <tr>\n",
       "      <th>9</th>\n",
       "      <td>GenkiBox Demo Campaign</td>\n",
       "      <td>1089</td>\n",
       "      <td>463</td>\n",
       "      <td>304</td>\n",
       "      <td>2.352052</td>\n",
       "      <td>52.408207</td>\n",
       "      <td>391</td>\n",
       "      <td>3876</td>\n",
       "      <td>0</td>\n",
       "      <td>0</td>\n",
       "    </tr>\n",
       "    <tr>\n",
       "      <th>10</th>\n",
       "      <td>AirNFTs x BabyWealthyClub 20 NFT Whitelists Gi...</td>\n",
       "      <td>709</td>\n",
       "      <td>211</td>\n",
       "      <td>184</td>\n",
       "      <td>3.360190</td>\n",
       "      <td>74.393365</td>\n",
       "      <td>192</td>\n",
       "      <td>2549</td>\n",
       "      <td>0</td>\n",
       "      <td>0</td>\n",
       "    </tr>\n",
       "    <tr>\n",
       "      <th>11</th>\n",
       "      <td>Apecoinflip Bounty Program</td>\n",
       "      <td>577</td>\n",
       "      <td>223</td>\n",
       "      <td>113</td>\n",
       "      <td>2.587444</td>\n",
       "      <td>40.313901</td>\n",
       "      <td>195</td>\n",
       "      <td>1936</td>\n",
       "      <td>0</td>\n",
       "      <td>0</td>\n",
       "    </tr>\n",
       "    <tr>\n",
       "      <th>12</th>\n",
       "      <td>PixelSweeper</td>\n",
       "      <td>119</td>\n",
       "      <td>11</td>\n",
       "      <td>4</td>\n",
       "      <td>10.818182</td>\n",
       "      <td>283.090909</td>\n",
       "      <td>10</td>\n",
       "      <td>393</td>\n",
       "      <td>0</td>\n",
       "      <td>0</td>\n",
       "    </tr>\n",
       "    <tr>\n",
       "      <th>13</th>\n",
       "      <td>Crypton Education Task</td>\n",
       "      <td>44</td>\n",
       "      <td>17</td>\n",
       "      <td>10</td>\n",
       "      <td>2.588235</td>\n",
       "      <td>41.588235</td>\n",
       "      <td>14</td>\n",
       "      <td>157</td>\n",
       "      <td>0</td>\n",
       "      <td>0</td>\n",
       "    </tr>\n",
       "  </tbody>\n",
       "</table>\n",
       "</div>"
      ],
      "text/plain": [
       "                                            网页标题和屏幕名称   查看次数   用户数  新用户数  \\\n",
       "0                     GenkiBox Beta Test NFT Giveaway  12587  6237  6175   \n",
       "1                    Rh!noX NFT discount & U Giveaway   8270  1639  1540   \n",
       "2            GENKI TWITTER SPACE X WOWSWAP X BETAMARS   8168  3439  2810   \n",
       "3     GENKI TWITTER SPACE X ONTO WALLET X SIL FINANCE   7642  2899  1765   \n",
       "4                   ZEBRA X VERA MYSTERY BOX GIVEAWAY   6500  2722  1720   \n",
       "5        The Project Galaxy & RhizomeDAO AMA Giveaway   3762  1520  1043   \n",
       "6                       BABYSWAP X GENKI AMA CAMPAIGN   1502   629   555   \n",
       "7                              WOWmax Airdrop Program   1354   374   172   \n",
       "8   Genki ✖️ BabyWealthyClub 20 NFT Whitelists Giv...   1091   578   275   \n",
       "9                              GenkiBox Demo Campaign   1089   463   304   \n",
       "10  AirNFTs x BabyWealthyClub 20 NFT Whitelists Gi...    709   211   184   \n",
       "11                         Apecoinflip Bounty Program    577   223   113   \n",
       "12                                       PixelSweeper    119    11     4   \n",
       "13                             Crypton Education Task     44    17    10   \n",
       "\n",
       "     每位用户的浏览量      平均互动时长  唯一身份用户滚动次数    事件数  转化次数  总收益  \n",
       "0    2.018118   52.846080        4469  46585     0    0  \n",
       "1    5.045760   95.885906        1290  25751     0    0  \n",
       "2    2.375109   60.403606        2876  31624     0    0  \n",
       "3    2.636081   86.454295        2492  28676     0    0  \n",
       "4    2.387950   92.100294        2288  25454     0    0  \n",
       "5    2.475000   64.277632        1329  13349     0    0  \n",
       "6    2.387917   46.879173         521   5376     0    0  \n",
       "7    3.620321   59.074866         312   4256     0    0  \n",
       "8    1.887543   66.399654         497   4122     0    0  \n",
       "9    2.352052   52.408207         391   3876     0    0  \n",
       "10   3.360190   74.393365         192   2549     0    0  \n",
       "11   2.587444   40.313901         195   1936     0    0  \n",
       "12  10.818182  283.090909          10    393     0    0  \n",
       "13   2.588235   41.588235          14    157     0    0  "
      ]
     },
     "execution_count": 4,
     "metadata": {},
     "output_type": "execute_result"
    }
   ],
   "source": [
    "ga_new = ga[ga['网页标题和屏幕名称'].isin(user_quests['campaignTitle'])].reset_index(drop=True)\n",
    "ga_new"
   ]
  },
  {
   "cell_type": "code",
   "execution_count": 5,
   "metadata": {},
   "outputs": [
    {
     "data": {
      "text/plain": [
       "array(['web2/discord/joinserver', 'web2/twitter/retweet',\n",
       "       'web2/twitter/follow', 'web3', 'referral', 'web2/telegram/join',\n",
       "       'web2/link', 'web2/answer', 'web2/twitter/like_and_retweet'],\n",
       "      dtype=object)"
      ]
     },
     "execution_count": 5,
     "metadata": {},
     "output_type": "execute_result"
    }
   ],
   "source": [
    "user_quests['quesType'].unique()"
   ]
  },
  {
   "cell_type": "markdown",
   "metadata": {},
   "source": [
    "# get the quest number in every campaign"
   ]
  },
  {
   "cell_type": "code",
   "execution_count": 6,
   "metadata": {},
   "outputs": [],
   "source": [
    "# get the quest number in every campaign\n",
    "quest_num = user_quests.groupby(['campaignTitle','questId','quesType']).count().reset_index()\n",
    "quest_num['new_type'] = 'web2'\n",
    "for i in range(len(quest_num)):\n",
    "  if quest_num['quesType'].iloc[i] == 'web3':\n",
    "    quest_num['new_type'].iloc[i] = 'web3'\n",
    "  elif quest_num['quesType'].iloc[i] == 'referral':\n",
    "    quest_num['new_type'].iloc[i] = 'referral'"
   ]
  },
  {
   "cell_type": "code",
   "execution_count": 7,
   "metadata": {},
   "outputs": [],
   "source": [
    "quest_num = quest_num.groupby(['campaignTitle','new_type']).count()['questId'].reset_index()"
   ]
  },
  {
   "cell_type": "code",
   "execution_count": 8,
   "metadata": {},
   "outputs": [],
   "source": [
    "quest_num.columns = ['campaignTitle', 'new_type', 'number']"
   ]
  },
  {
   "cell_type": "code",
   "execution_count": 9,
   "metadata": {},
   "outputs": [
    {
     "data": {
      "text/html": [
       "<div>\n",
       "<style scoped>\n",
       "    .dataframe tbody tr th:only-of-type {\n",
       "        vertical-align: middle;\n",
       "    }\n",
       "\n",
       "    .dataframe tbody tr th {\n",
       "        vertical-align: top;\n",
       "    }\n",
       "\n",
       "    .dataframe thead th {\n",
       "        text-align: right;\n",
       "    }\n",
       "</style>\n",
       "<table border=\"1\" class=\"dataframe\">\n",
       "  <thead>\n",
       "    <tr style=\"text-align: right;\">\n",
       "      <th></th>\n",
       "      <th>campaignTitle</th>\n",
       "      <th>new_type</th>\n",
       "      <th>number</th>\n",
       "    </tr>\n",
       "  </thead>\n",
       "  <tbody>\n",
       "    <tr>\n",
       "      <th>2</th>\n",
       "      <td>Apecoinflip Bounty Program</td>\n",
       "      <td>referral</td>\n",
       "      <td>1</td>\n",
       "    </tr>\n",
       "  </tbody>\n",
       "</table>\n",
       "</div>"
      ],
      "text/plain": [
       "                campaignTitle  new_type  number\n",
       "2  Apecoinflip Bounty Program  referral       1"
      ]
     },
     "execution_count": 9,
     "metadata": {},
     "output_type": "execute_result"
    }
   ],
   "source": [
    "quest_num[(quest_num['campaignTitle'] == 'Apecoinflip Bounty Program') & (quest_num['new_type'] == 'referral')]"
   ]
  },
  {
   "cell_type": "markdown",
   "metadata": {},
   "source": [
    "# a middle dataframe to connect the two df"
   ]
  },
  {
   "cell_type": "code",
   "execution_count": 10,
   "metadata": {},
   "outputs": [],
   "source": [
    "# and aggregate the campaign and quest type\n",
    "# referral is not included\n",
    "ga_mid = user_quests[user_quests['quesType'] != 'referral']\n",
    "\n",
    "ga_mid['new_type'] = 'web2'\n",
    "for i in range(len(ga_mid)):\n",
    "  if ga_mid['quesType'].iloc[i] == 'web3':\n",
    "    ga_mid['new_type'].iloc[i] = 'web3'\n"
   ]
  },
  {
   "cell_type": "code",
   "execution_count": 11,
   "metadata": {},
   "outputs": [],
   "source": [
    "ga_mid = ga_mid.groupby(['campaignTitle','userAddress','new_type']).count()['questId'].reset_index()"
   ]
  },
  {
   "cell_type": "code",
   "execution_count": 12,
   "metadata": {},
   "outputs": [],
   "source": [
    "ga_mid.columns = ['campaignTitle', 'userAddress', 'new_type', 'count']"
   ]
  },
  {
   "cell_type": "code",
   "execution_count": 13,
   "metadata": {},
   "outputs": [],
   "source": [
    "ga_mid.columns.name=None"
   ]
  },
  {
   "cell_type": "code",
   "execution_count": 14,
   "metadata": {},
   "outputs": [],
   "source": [
    "filtered_ga = pd.DataFrame()\n",
    "for i in range(len(ga_mid)):\n",
    "  # 2 filter to locate the number of quest\n",
    "  filter1 = (quest_num['campaignTitle'] == ga_mid['campaignTitle'].iloc[i])\n",
    "  filter2 = (quest_num['new_type'] == ga_mid['new_type'].iloc[i])\n",
    "  # get the total quest\n",
    "  total_quest = quest_num[filter1 & filter2]['number'].iloc[0]\n",
    "  # only select those equals to total_quest\n",
    "  if ga_mid['count'].iloc[i] == total_quest:\n",
    "    filtered_ga = filtered_ga.append(ga_mid.iloc[i])"
   ]
  },
  {
   "cell_type": "code",
   "execution_count": 15,
   "metadata": {},
   "outputs": [
    {
     "data": {
      "text/html": [
       "<div>\n",
       "<style scoped>\n",
       "    .dataframe tbody tr th:only-of-type {\n",
       "        vertical-align: middle;\n",
       "    }\n",
       "\n",
       "    .dataframe tbody tr th {\n",
       "        vertical-align: top;\n",
       "    }\n",
       "\n",
       "    .dataframe thead th {\n",
       "        text-align: right;\n",
       "    }\n",
       "</style>\n",
       "<table border=\"1\" class=\"dataframe\">\n",
       "  <thead>\n",
       "    <tr style=\"text-align: right;\">\n",
       "      <th></th>\n",
       "      <th>campaignTitle</th>\n",
       "      <th>userAddress</th>\n",
       "      <th>new_type</th>\n",
       "      <th>count</th>\n",
       "    </tr>\n",
       "  </thead>\n",
       "  <tbody>\n",
       "    <tr>\n",
       "      <th>0</th>\n",
       "      <td>AirNFTs x BabyWealthyClub 20 NFT Whitelists Gi...</td>\n",
       "      <td>0x02ba49001d5ecc223f0a53131cb3d53106387c2e</td>\n",
       "      <td>web2</td>\n",
       "      <td>6</td>\n",
       "    </tr>\n",
       "    <tr>\n",
       "      <th>2</th>\n",
       "      <td>AirNFTs x BabyWealthyClub 20 NFT Whitelists Gi...</td>\n",
       "      <td>0x05688259a7b50c0f92a8db7cd4f97ebe965c5cb3</td>\n",
       "      <td>web2</td>\n",
       "      <td>6</td>\n",
       "    </tr>\n",
       "    <tr>\n",
       "      <th>5</th>\n",
       "      <td>AirNFTs x BabyWealthyClub 20 NFT Whitelists Gi...</td>\n",
       "      <td>0x123092dd76973aa075a318e78e4bf8a91c9b82ed</td>\n",
       "      <td>web2</td>\n",
       "      <td>6</td>\n",
       "    </tr>\n",
       "    <tr>\n",
       "      <th>6</th>\n",
       "      <td>AirNFTs x BabyWealthyClub 20 NFT Whitelists Gi...</td>\n",
       "      <td>0x131f07a63cc7a6b31f7527cb118d9c576da9adfc</td>\n",
       "      <td>web2</td>\n",
       "      <td>6</td>\n",
       "    </tr>\n",
       "    <tr>\n",
       "      <th>8</th>\n",
       "      <td>AirNFTs x BabyWealthyClub 20 NFT Whitelists Gi...</td>\n",
       "      <td>0x171cc136a959c864038c7dcb1ad48e54b2c06dbd</td>\n",
       "      <td>web2</td>\n",
       "      <td>6</td>\n",
       "    </tr>\n",
       "    <tr>\n",
       "      <th>...</th>\n",
       "      <td>...</td>\n",
       "      <td>...</td>\n",
       "      <td>...</td>\n",
       "      <td>...</td>\n",
       "    </tr>\n",
       "    <tr>\n",
       "      <th>8529</th>\n",
       "      <td>twitterSpace</td>\n",
       "      <td>0xfa2a56c6cfa68deea34f2640b259036fe824a2e9</td>\n",
       "      <td>web2</td>\n",
       "      <td>8</td>\n",
       "    </tr>\n",
       "    <tr>\n",
       "      <th>8531</th>\n",
       "      <td>twitterSpace</td>\n",
       "      <td>0xfbd08fd2b2c7148b4e38624158c3155b5b49f886</td>\n",
       "      <td>web2</td>\n",
       "      <td>8</td>\n",
       "    </tr>\n",
       "    <tr>\n",
       "      <th>8534</th>\n",
       "      <td>twitterSpace</td>\n",
       "      <td>0xfd0beee9d7be139b9a24fff8316a5c15760776de</td>\n",
       "      <td>web2</td>\n",
       "      <td>8</td>\n",
       "    </tr>\n",
       "    <tr>\n",
       "      <th>8535</th>\n",
       "      <td>twitterSpace</td>\n",
       "      <td>0xfe14943cc76b5c4013de35acb7f8ec4183bd7f1c</td>\n",
       "      <td>web2</td>\n",
       "      <td>8</td>\n",
       "    </tr>\n",
       "    <tr>\n",
       "      <th>8536</th>\n",
       "      <td>twitterSpace</td>\n",
       "      <td>0xff78750b5b4193476544469c4394dda37e21317d</td>\n",
       "      <td>web2</td>\n",
       "      <td>8</td>\n",
       "    </tr>\n",
       "  </tbody>\n",
       "</table>\n",
       "<p>5069 rows × 4 columns</p>\n",
       "</div>"
      ],
      "text/plain": [
       "                                          campaignTitle  \\\n",
       "0     AirNFTs x BabyWealthyClub 20 NFT Whitelists Gi...   \n",
       "2     AirNFTs x BabyWealthyClub 20 NFT Whitelists Gi...   \n",
       "5     AirNFTs x BabyWealthyClub 20 NFT Whitelists Gi...   \n",
       "6     AirNFTs x BabyWealthyClub 20 NFT Whitelists Gi...   \n",
       "8     AirNFTs x BabyWealthyClub 20 NFT Whitelists Gi...   \n",
       "...                                                 ...   \n",
       "8529                                       twitterSpace   \n",
       "8531                                       twitterSpace   \n",
       "8534                                       twitterSpace   \n",
       "8535                                       twitterSpace   \n",
       "8536                                       twitterSpace   \n",
       "\n",
       "                                     userAddress new_type  count  \n",
       "0     0x02ba49001d5ecc223f0a53131cb3d53106387c2e     web2      6  \n",
       "2     0x05688259a7b50c0f92a8db7cd4f97ebe965c5cb3     web2      6  \n",
       "5     0x123092dd76973aa075a318e78e4bf8a91c9b82ed     web2      6  \n",
       "6     0x131f07a63cc7a6b31f7527cb118d9c576da9adfc     web2      6  \n",
       "8     0x171cc136a959c864038c7dcb1ad48e54b2c06dbd     web2      6  \n",
       "...                                          ...      ...    ...  \n",
       "8529  0xfa2a56c6cfa68deea34f2640b259036fe824a2e9     web2      8  \n",
       "8531  0xfbd08fd2b2c7148b4e38624158c3155b5b49f886     web2      8  \n",
       "8534  0xfd0beee9d7be139b9a24fff8316a5c15760776de     web2      8  \n",
       "8535  0xfe14943cc76b5c4013de35acb7f8ec4183bd7f1c     web2      8  \n",
       "8536  0xff78750b5b4193476544469c4394dda37e21317d     web2      8  \n",
       "\n",
       "[5069 rows x 4 columns]"
      ]
     },
     "execution_count": 15,
     "metadata": {},
     "output_type": "execute_result"
    }
   ],
   "source": [
    "filtered_ga"
   ]
  },
  {
   "cell_type": "code",
   "execution_count": 16,
   "metadata": {},
   "outputs": [],
   "source": [
    "filtered_ga = filtered_ga.groupby(['campaignTitle','new_type']).sum().reset_index()\n",
    "filtered_ga = filtered_ga.pivot(index='campaignTitle',columns='new_type')['count'].reset_index()\n"
   ]
  },
  {
   "cell_type": "code",
   "execution_count": 17,
   "metadata": {},
   "outputs": [],
   "source": [
    "ga_final = pd.merge(ga,filtered_ga[['campaignTitle','web2','web3']],how='inner',left_on='网页标题和屏幕名称',right_on='campaignTitle')"
   ]
  },
  {
   "cell_type": "code",
   "execution_count": 18,
   "metadata": {},
   "outputs": [
    {
     "data": {
      "text/html": [
       "<div>\n",
       "<style scoped>\n",
       "    .dataframe tbody tr th:only-of-type {\n",
       "        vertical-align: middle;\n",
       "    }\n",
       "\n",
       "    .dataframe tbody tr th {\n",
       "        vertical-align: top;\n",
       "    }\n",
       "\n",
       "    .dataframe thead th {\n",
       "        text-align: right;\n",
       "    }\n",
       "</style>\n",
       "<table border=\"1\" class=\"dataframe\">\n",
       "  <thead>\n",
       "    <tr style=\"text-align: right;\">\n",
       "      <th></th>\n",
       "      <th>网页标题和屏幕名称</th>\n",
       "      <th>查看次数</th>\n",
       "      <th>用户数</th>\n",
       "      <th>新用户数</th>\n",
       "      <th>每位用户的浏览量</th>\n",
       "      <th>平均互动时长</th>\n",
       "      <th>唯一身份用户滚动次数</th>\n",
       "      <th>事件数</th>\n",
       "      <th>转化次数</th>\n",
       "      <th>总收益</th>\n",
       "      <th>campaignTitle</th>\n",
       "      <th>web2</th>\n",
       "      <th>web3</th>\n",
       "    </tr>\n",
       "  </thead>\n",
       "  <tbody>\n",
       "    <tr>\n",
       "      <th>0</th>\n",
       "      <td>GenkiBox Beta Test NFT Giveaway</td>\n",
       "      <td>12587</td>\n",
       "      <td>6237</td>\n",
       "      <td>6175</td>\n",
       "      <td>2.018118</td>\n",
       "      <td>52.846080</td>\n",
       "      <td>4469</td>\n",
       "      <td>46585</td>\n",
       "      <td>0</td>\n",
       "      <td>0</td>\n",
       "      <td>GenkiBox Beta Test NFT Giveaway</td>\n",
       "      <td>2475.0</td>\n",
       "      <td>1360.0</td>\n",
       "    </tr>\n",
       "    <tr>\n",
       "      <th>1</th>\n",
       "      <td>Rh!noX NFT discount &amp; U Giveaway</td>\n",
       "      <td>8270</td>\n",
       "      <td>1639</td>\n",
       "      <td>1540</td>\n",
       "      <td>5.045760</td>\n",
       "      <td>95.885906</td>\n",
       "      <td>1290</td>\n",
       "      <td>25751</td>\n",
       "      <td>0</td>\n",
       "      <td>0</td>\n",
       "      <td>Rh!noX NFT discount &amp; U Giveaway</td>\n",
       "      <td>216.0</td>\n",
       "      <td>36.0</td>\n",
       "    </tr>\n",
       "    <tr>\n",
       "      <th>2</th>\n",
       "      <td>GENKI TWITTER SPACE X WOWSWAP X BETAMARS</td>\n",
       "      <td>8168</td>\n",
       "      <td>3439</td>\n",
       "      <td>2810</td>\n",
       "      <td>2.375109</td>\n",
       "      <td>60.403606</td>\n",
       "      <td>2876</td>\n",
       "      <td>31624</td>\n",
       "      <td>0</td>\n",
       "      <td>0</td>\n",
       "      <td>GENKI TWITTER SPACE X WOWSWAP X BETAMARS</td>\n",
       "      <td>6125.0</td>\n",
       "      <td>NaN</td>\n",
       "    </tr>\n",
       "    <tr>\n",
       "      <th>3</th>\n",
       "      <td>GENKI TWITTER SPACE X ONTO WALLET X SIL FINANCE</td>\n",
       "      <td>7642</td>\n",
       "      <td>2899</td>\n",
       "      <td>1765</td>\n",
       "      <td>2.636081</td>\n",
       "      <td>86.454295</td>\n",
       "      <td>2492</td>\n",
       "      <td>28676</td>\n",
       "      <td>0</td>\n",
       "      <td>0</td>\n",
       "      <td>GENKI TWITTER SPACE X ONTO WALLET X SIL FINANCE</td>\n",
       "      <td>3801.0</td>\n",
       "      <td>NaN</td>\n",
       "    </tr>\n",
       "    <tr>\n",
       "      <th>4</th>\n",
       "      <td>ZEBRA X VERA MYSTERY BOX GIVEAWAY</td>\n",
       "      <td>6500</td>\n",
       "      <td>2722</td>\n",
       "      <td>1720</td>\n",
       "      <td>2.387950</td>\n",
       "      <td>92.100294</td>\n",
       "      <td>2288</td>\n",
       "      <td>25454</td>\n",
       "      <td>0</td>\n",
       "      <td>0</td>\n",
       "      <td>ZEBRA X VERA MYSTERY BOX GIVEAWAY</td>\n",
       "      <td>36.0</td>\n",
       "      <td>NaN</td>\n",
       "    </tr>\n",
       "    <tr>\n",
       "      <th>5</th>\n",
       "      <td>The Project Galaxy &amp; RhizomeDAO AMA Giveaway</td>\n",
       "      <td>3762</td>\n",
       "      <td>1520</td>\n",
       "      <td>1043</td>\n",
       "      <td>2.475000</td>\n",
       "      <td>64.277632</td>\n",
       "      <td>1329</td>\n",
       "      <td>13349</td>\n",
       "      <td>0</td>\n",
       "      <td>0</td>\n",
       "      <td>The Project Galaxy &amp; RhizomeDAO AMA Giveaway</td>\n",
       "      <td>3625.0</td>\n",
       "      <td>NaN</td>\n",
       "    </tr>\n",
       "    <tr>\n",
       "      <th>6</th>\n",
       "      <td>BABYSWAP X GENKI AMA CAMPAIGN</td>\n",
       "      <td>1502</td>\n",
       "      <td>629</td>\n",
       "      <td>555</td>\n",
       "      <td>2.387917</td>\n",
       "      <td>46.879173</td>\n",
       "      <td>521</td>\n",
       "      <td>5376</td>\n",
       "      <td>0</td>\n",
       "      <td>0</td>\n",
       "      <td>BABYSWAP X GENKI AMA CAMPAIGN</td>\n",
       "      <td>498.0</td>\n",
       "      <td>7.0</td>\n",
       "    </tr>\n",
       "    <tr>\n",
       "      <th>7</th>\n",
       "      <td>WOWmax Airdrop Program</td>\n",
       "      <td>1354</td>\n",
       "      <td>374</td>\n",
       "      <td>172</td>\n",
       "      <td>3.620321</td>\n",
       "      <td>59.074866</td>\n",
       "      <td>312</td>\n",
       "      <td>4256</td>\n",
       "      <td>0</td>\n",
       "      <td>0</td>\n",
       "      <td>WOWmax Airdrop Program</td>\n",
       "      <td>72.0</td>\n",
       "      <td>NaN</td>\n",
       "    </tr>\n",
       "    <tr>\n",
       "      <th>8</th>\n",
       "      <td>Genki ✖️ BabyWealthyClub 20 NFT Whitelists Giv...</td>\n",
       "      <td>1091</td>\n",
       "      <td>578</td>\n",
       "      <td>275</td>\n",
       "      <td>1.887543</td>\n",
       "      <td>66.399654</td>\n",
       "      <td>497</td>\n",
       "      <td>4122</td>\n",
       "      <td>0</td>\n",
       "      <td>0</td>\n",
       "      <td>Genki ✖️ BabyWealthyClub 20 NFT Whitelists Giv...</td>\n",
       "      <td>1495.0</td>\n",
       "      <td>NaN</td>\n",
       "    </tr>\n",
       "    <tr>\n",
       "      <th>9</th>\n",
       "      <td>GenkiBox Demo Campaign</td>\n",
       "      <td>1089</td>\n",
       "      <td>463</td>\n",
       "      <td>304</td>\n",
       "      <td>2.352052</td>\n",
       "      <td>52.408207</td>\n",
       "      <td>391</td>\n",
       "      <td>3876</td>\n",
       "      <td>0</td>\n",
       "      <td>0</td>\n",
       "      <td>GenkiBox Demo Campaign</td>\n",
       "      <td>3.0</td>\n",
       "      <td>4.0</td>\n",
       "    </tr>\n",
       "    <tr>\n",
       "      <th>10</th>\n",
       "      <td>AirNFTs x BabyWealthyClub 20 NFT Whitelists Gi...</td>\n",
       "      <td>709</td>\n",
       "      <td>211</td>\n",
       "      <td>184</td>\n",
       "      <td>3.360190</td>\n",
       "      <td>74.393365</td>\n",
       "      <td>192</td>\n",
       "      <td>2549</td>\n",
       "      <td>0</td>\n",
       "      <td>0</td>\n",
       "      <td>AirNFTs x BabyWealthyClub 20 NFT Whitelists Gi...</td>\n",
       "      <td>318.0</td>\n",
       "      <td>NaN</td>\n",
       "    </tr>\n",
       "    <tr>\n",
       "      <th>11</th>\n",
       "      <td>Apecoinflip Bounty Program</td>\n",
       "      <td>577</td>\n",
       "      <td>223</td>\n",
       "      <td>113</td>\n",
       "      <td>2.587444</td>\n",
       "      <td>40.313901</td>\n",
       "      <td>195</td>\n",
       "      <td>1936</td>\n",
       "      <td>0</td>\n",
       "      <td>0</td>\n",
       "      <td>Apecoinflip Bounty Program</td>\n",
       "      <td>252.0</td>\n",
       "      <td>NaN</td>\n",
       "    </tr>\n",
       "    <tr>\n",
       "      <th>12</th>\n",
       "      <td>PixelSweeper</td>\n",
       "      <td>119</td>\n",
       "      <td>11</td>\n",
       "      <td>4</td>\n",
       "      <td>10.818182</td>\n",
       "      <td>283.090909</td>\n",
       "      <td>10</td>\n",
       "      <td>393</td>\n",
       "      <td>0</td>\n",
       "      <td>0</td>\n",
       "      <td>PixelSweeper</td>\n",
       "      <td>4.0</td>\n",
       "      <td>2.0</td>\n",
       "    </tr>\n",
       "    <tr>\n",
       "      <th>13</th>\n",
       "      <td>Crypton Education Task</td>\n",
       "      <td>44</td>\n",
       "      <td>17</td>\n",
       "      <td>10</td>\n",
       "      <td>2.588235</td>\n",
       "      <td>41.588235</td>\n",
       "      <td>14</td>\n",
       "      <td>157</td>\n",
       "      <td>0</td>\n",
       "      <td>0</td>\n",
       "      <td>Crypton Education Task</td>\n",
       "      <td>1.0</td>\n",
       "      <td>2.0</td>\n",
       "    </tr>\n",
       "  </tbody>\n",
       "</table>\n",
       "</div>"
      ],
      "text/plain": [
       "                                            网页标题和屏幕名称   查看次数   用户数  新用户数  \\\n",
       "0                     GenkiBox Beta Test NFT Giveaway  12587  6237  6175   \n",
       "1                    Rh!noX NFT discount & U Giveaway   8270  1639  1540   \n",
       "2            GENKI TWITTER SPACE X WOWSWAP X BETAMARS   8168  3439  2810   \n",
       "3     GENKI TWITTER SPACE X ONTO WALLET X SIL FINANCE   7642  2899  1765   \n",
       "4                   ZEBRA X VERA MYSTERY BOX GIVEAWAY   6500  2722  1720   \n",
       "5        The Project Galaxy & RhizomeDAO AMA Giveaway   3762  1520  1043   \n",
       "6                       BABYSWAP X GENKI AMA CAMPAIGN   1502   629   555   \n",
       "7                              WOWmax Airdrop Program   1354   374   172   \n",
       "8   Genki ✖️ BabyWealthyClub 20 NFT Whitelists Giv...   1091   578   275   \n",
       "9                              GenkiBox Demo Campaign   1089   463   304   \n",
       "10  AirNFTs x BabyWealthyClub 20 NFT Whitelists Gi...    709   211   184   \n",
       "11                         Apecoinflip Bounty Program    577   223   113   \n",
       "12                                       PixelSweeper    119    11     4   \n",
       "13                             Crypton Education Task     44    17    10   \n",
       "\n",
       "     每位用户的浏览量      平均互动时长  唯一身份用户滚动次数    事件数  转化次数  总收益  \\\n",
       "0    2.018118   52.846080        4469  46585     0    0   \n",
       "1    5.045760   95.885906        1290  25751     0    0   \n",
       "2    2.375109   60.403606        2876  31624     0    0   \n",
       "3    2.636081   86.454295        2492  28676     0    0   \n",
       "4    2.387950   92.100294        2288  25454     0    0   \n",
       "5    2.475000   64.277632        1329  13349     0    0   \n",
       "6    2.387917   46.879173         521   5376     0    0   \n",
       "7    3.620321   59.074866         312   4256     0    0   \n",
       "8    1.887543   66.399654         497   4122     0    0   \n",
       "9    2.352052   52.408207         391   3876     0    0   \n",
       "10   3.360190   74.393365         192   2549     0    0   \n",
       "11   2.587444   40.313901         195   1936     0    0   \n",
       "12  10.818182  283.090909          10    393     0    0   \n",
       "13   2.588235   41.588235          14    157     0    0   \n",
       "\n",
       "                                        campaignTitle    web2    web3  \n",
       "0                     GenkiBox Beta Test NFT Giveaway  2475.0  1360.0  \n",
       "1                    Rh!noX NFT discount & U Giveaway   216.0    36.0  \n",
       "2            GENKI TWITTER SPACE X WOWSWAP X BETAMARS  6125.0     NaN  \n",
       "3     GENKI TWITTER SPACE X ONTO WALLET X SIL FINANCE  3801.0     NaN  \n",
       "4                   ZEBRA X VERA MYSTERY BOX GIVEAWAY    36.0     NaN  \n",
       "5        The Project Galaxy & RhizomeDAO AMA Giveaway  3625.0     NaN  \n",
       "6                       BABYSWAP X GENKI AMA CAMPAIGN   498.0     7.0  \n",
       "7                              WOWmax Airdrop Program    72.0     NaN  \n",
       "8   Genki ✖️ BabyWealthyClub 20 NFT Whitelists Giv...  1495.0     NaN  \n",
       "9                              GenkiBox Demo Campaign     3.0     4.0  \n",
       "10  AirNFTs x BabyWealthyClub 20 NFT Whitelists Gi...   318.0     NaN  \n",
       "11                         Apecoinflip Bounty Program   252.0     NaN  \n",
       "12                                       PixelSweeper     4.0     2.0  \n",
       "13                             Crypton Education Task     1.0     2.0  "
      ]
     },
     "execution_count": 18,
     "metadata": {},
     "output_type": "execute_result"
    }
   ],
   "source": [
    "ga_final"
   ]
  },
  {
   "cell_type": "code",
   "execution_count": 19,
   "metadata": {},
   "outputs": [],
   "source": [
    "ga_final_1 = ga_final[['campaignTitle','查看次数','web2','web3']]\n",
    "ga_final_1.columns = ['campaignTitle','View count','web2 count','web3 count']"
   ]
  },
  {
   "cell_type": "code",
   "execution_count": 20,
   "metadata": {},
   "outputs": [],
   "source": [
    "# do this to avoid error when exporting html\n",
    "ga_final_1['View count'] = ga_final_1['View count'].astype('float')"
   ]
  },
  {
   "cell_type": "code",
   "execution_count": 33,
   "metadata": {},
   "outputs": [
    {
     "data": {
      "text/html": [
       "<div>\n",
       "<style scoped>\n",
       "    .dataframe tbody tr th:only-of-type {\n",
       "        vertical-align: middle;\n",
       "    }\n",
       "\n",
       "    .dataframe tbody tr th {\n",
       "        vertical-align: top;\n",
       "    }\n",
       "\n",
       "    .dataframe thead th {\n",
       "        text-align: right;\n",
       "    }\n",
       "</style>\n",
       "<table border=\"1\" class=\"dataframe\">\n",
       "  <thead>\n",
       "    <tr style=\"text-align: right;\">\n",
       "      <th></th>\n",
       "      <th>campaignTitle</th>\n",
       "      <th>View count</th>\n",
       "      <th>web2 count</th>\n",
       "      <th>web3 count</th>\n",
       "    </tr>\n",
       "  </thead>\n",
       "  <tbody>\n",
       "    <tr>\n",
       "      <th>0</th>\n",
       "      <td>GenkiBox Beta Test NFT Giveaway</td>\n",
       "      <td>12587.0</td>\n",
       "      <td>2475.0</td>\n",
       "      <td>1360.0</td>\n",
       "    </tr>\n",
       "    <tr>\n",
       "      <th>1</th>\n",
       "      <td>Rh!noX NFT discount &amp; U Giveaway</td>\n",
       "      <td>8270.0</td>\n",
       "      <td>216.0</td>\n",
       "      <td>36.0</td>\n",
       "    </tr>\n",
       "    <tr>\n",
       "      <th>2</th>\n",
       "      <td>GENKI TWITTER SPACE X WOWSWAP X BETAMARS</td>\n",
       "      <td>8168.0</td>\n",
       "      <td>6125.0</td>\n",
       "      <td>NaN</td>\n",
       "    </tr>\n",
       "    <tr>\n",
       "      <th>3</th>\n",
       "      <td>GENKI TWITTER SPACE X ONTO WALLET X SIL FINANCE</td>\n",
       "      <td>7642.0</td>\n",
       "      <td>3801.0</td>\n",
       "      <td>NaN</td>\n",
       "    </tr>\n",
       "    <tr>\n",
       "      <th>4</th>\n",
       "      <td>ZEBRA X VERA MYSTERY BOX GIVEAWAY</td>\n",
       "      <td>6500.0</td>\n",
       "      <td>36.0</td>\n",
       "      <td>NaN</td>\n",
       "    </tr>\n",
       "    <tr>\n",
       "      <th>5</th>\n",
       "      <td>The Project Galaxy &amp; RhizomeDAO AMA Giveaway</td>\n",
       "      <td>3762.0</td>\n",
       "      <td>3625.0</td>\n",
       "      <td>NaN</td>\n",
       "    </tr>\n",
       "    <tr>\n",
       "      <th>6</th>\n",
       "      <td>BABYSWAP X GENKI AMA CAMPAIGN</td>\n",
       "      <td>1502.0</td>\n",
       "      <td>498.0</td>\n",
       "      <td>7.0</td>\n",
       "    </tr>\n",
       "    <tr>\n",
       "      <th>7</th>\n",
       "      <td>WOWmax Airdrop Program</td>\n",
       "      <td>1354.0</td>\n",
       "      <td>72.0</td>\n",
       "      <td>NaN</td>\n",
       "    </tr>\n",
       "    <tr>\n",
       "      <th>8</th>\n",
       "      <td>Genki ✖️ BabyWealthyClub 20 NFT Whitelists Giv...</td>\n",
       "      <td>1091.0</td>\n",
       "      <td>1495.0</td>\n",
       "      <td>NaN</td>\n",
       "    </tr>\n",
       "    <tr>\n",
       "      <th>9</th>\n",
       "      <td>GenkiBox Demo Campaign</td>\n",
       "      <td>1089.0</td>\n",
       "      <td>3.0</td>\n",
       "      <td>4.0</td>\n",
       "    </tr>\n",
       "    <tr>\n",
       "      <th>10</th>\n",
       "      <td>AirNFTs x BabyWealthyClub 20 NFT Whitelists Gi...</td>\n",
       "      <td>709.0</td>\n",
       "      <td>318.0</td>\n",
       "      <td>NaN</td>\n",
       "    </tr>\n",
       "    <tr>\n",
       "      <th>11</th>\n",
       "      <td>Apecoinflip Bounty Program</td>\n",
       "      <td>577.0</td>\n",
       "      <td>252.0</td>\n",
       "      <td>NaN</td>\n",
       "    </tr>\n",
       "    <tr>\n",
       "      <th>12</th>\n",
       "      <td>PixelSweeper</td>\n",
       "      <td>119.0</td>\n",
       "      <td>4.0</td>\n",
       "      <td>2.0</td>\n",
       "    </tr>\n",
       "    <tr>\n",
       "      <th>13</th>\n",
       "      <td>Crypton Education Task</td>\n",
       "      <td>44.0</td>\n",
       "      <td>1.0</td>\n",
       "      <td>2.0</td>\n",
       "    </tr>\n",
       "  </tbody>\n",
       "</table>\n",
       "</div>"
      ],
      "text/plain": [
       "                                        campaignTitle  View count  web2 count  \\\n",
       "0                     GenkiBox Beta Test NFT Giveaway     12587.0      2475.0   \n",
       "1                    Rh!noX NFT discount & U Giveaway      8270.0       216.0   \n",
       "2            GENKI TWITTER SPACE X WOWSWAP X BETAMARS      8168.0      6125.0   \n",
       "3     GENKI TWITTER SPACE X ONTO WALLET X SIL FINANCE      7642.0      3801.0   \n",
       "4                   ZEBRA X VERA MYSTERY BOX GIVEAWAY      6500.0        36.0   \n",
       "5        The Project Galaxy & RhizomeDAO AMA Giveaway      3762.0      3625.0   \n",
       "6                       BABYSWAP X GENKI AMA CAMPAIGN      1502.0       498.0   \n",
       "7                              WOWmax Airdrop Program      1354.0        72.0   \n",
       "8   Genki ✖️ BabyWealthyClub 20 NFT Whitelists Giv...      1091.0      1495.0   \n",
       "9                              GenkiBox Demo Campaign      1089.0         3.0   \n",
       "10  AirNFTs x BabyWealthyClub 20 NFT Whitelists Gi...       709.0       318.0   \n",
       "11                         Apecoinflip Bounty Program       577.0       252.0   \n",
       "12                                       PixelSweeper       119.0         4.0   \n",
       "13                             Crypton Education Task        44.0         1.0   \n",
       "\n",
       "    web3 count  \n",
       "0       1360.0  \n",
       "1         36.0  \n",
       "2          NaN  \n",
       "3          NaN  \n",
       "4          NaN  \n",
       "5          NaN  \n",
       "6          7.0  \n",
       "7          NaN  \n",
       "8          NaN  \n",
       "9          4.0  \n",
       "10         NaN  \n",
       "11         NaN  \n",
       "12         2.0  \n",
       "13         2.0  "
      ]
     },
     "execution_count": 33,
     "metadata": {},
     "output_type": "execute_result"
    }
   ],
   "source": [
    "ga_final_1"
   ]
  },
  {
   "cell_type": "code",
   "execution_count": 22,
   "metadata": {},
   "outputs": [],
   "source": [
    "campaignName = widgets.Dropdown(\n",
    "    options=list(ga_final_1['campaignTitle']),\n",
    "    value='GenkiBox Beta Test NFT Giveaway'\n",
    ")"
   ]
  },
  {
   "cell_type": "code",
   "execution_count": 23,
   "metadata": {},
   "outputs": [
    {
     "data": {
      "application/vnd.plotly.v1+json": {
       "config": {
        "plotlyServerURL": "https://plot.ly"
       },
       "data": [
        {
         "type": "funnel",
         "x": [
          12587,
          2475,
          1360
         ],
         "y": [
          "View count",
          "web2 count",
          "web3 count"
         ]
        }
       ],
       "layout": {
        "template": {
         "data": {
          "bar": [
           {
            "error_x": {
             "color": "#2a3f5f"
            },
            "error_y": {
             "color": "#2a3f5f"
            },
            "marker": {
             "line": {
              "color": "#E5ECF6",
              "width": 0.5
             },
             "pattern": {
              "fillmode": "overlay",
              "size": 10,
              "solidity": 0.2
             }
            },
            "type": "bar"
           }
          ],
          "barpolar": [
           {
            "marker": {
             "line": {
              "color": "#E5ECF6",
              "width": 0.5
             },
             "pattern": {
              "fillmode": "overlay",
              "size": 10,
              "solidity": 0.2
             }
            },
            "type": "barpolar"
           }
          ],
          "carpet": [
           {
            "aaxis": {
             "endlinecolor": "#2a3f5f",
             "gridcolor": "white",
             "linecolor": "white",
             "minorgridcolor": "white",
             "startlinecolor": "#2a3f5f"
            },
            "baxis": {
             "endlinecolor": "#2a3f5f",
             "gridcolor": "white",
             "linecolor": "white",
             "minorgridcolor": "white",
             "startlinecolor": "#2a3f5f"
            },
            "type": "carpet"
           }
          ],
          "choropleth": [
           {
            "colorbar": {
             "outlinewidth": 0,
             "ticks": ""
            },
            "type": "choropleth"
           }
          ],
          "contour": [
           {
            "colorbar": {
             "outlinewidth": 0,
             "ticks": ""
            },
            "colorscale": [
             [
              0,
              "#0d0887"
             ],
             [
              0.1111111111111111,
              "#46039f"
             ],
             [
              0.2222222222222222,
              "#7201a8"
             ],
             [
              0.3333333333333333,
              "#9c179e"
             ],
             [
              0.4444444444444444,
              "#bd3786"
             ],
             [
              0.5555555555555556,
              "#d8576b"
             ],
             [
              0.6666666666666666,
              "#ed7953"
             ],
             [
              0.7777777777777778,
              "#fb9f3a"
             ],
             [
              0.8888888888888888,
              "#fdca26"
             ],
             [
              1,
              "#f0f921"
             ]
            ],
            "type": "contour"
           }
          ],
          "contourcarpet": [
           {
            "colorbar": {
             "outlinewidth": 0,
             "ticks": ""
            },
            "type": "contourcarpet"
           }
          ],
          "heatmap": [
           {
            "colorbar": {
             "outlinewidth": 0,
             "ticks": ""
            },
            "colorscale": [
             [
              0,
              "#0d0887"
             ],
             [
              0.1111111111111111,
              "#46039f"
             ],
             [
              0.2222222222222222,
              "#7201a8"
             ],
             [
              0.3333333333333333,
              "#9c179e"
             ],
             [
              0.4444444444444444,
              "#bd3786"
             ],
             [
              0.5555555555555556,
              "#d8576b"
             ],
             [
              0.6666666666666666,
              "#ed7953"
             ],
             [
              0.7777777777777778,
              "#fb9f3a"
             ],
             [
              0.8888888888888888,
              "#fdca26"
             ],
             [
              1,
              "#f0f921"
             ]
            ],
            "type": "heatmap"
           }
          ],
          "heatmapgl": [
           {
            "colorbar": {
             "outlinewidth": 0,
             "ticks": ""
            },
            "colorscale": [
             [
              0,
              "#0d0887"
             ],
             [
              0.1111111111111111,
              "#46039f"
             ],
             [
              0.2222222222222222,
              "#7201a8"
             ],
             [
              0.3333333333333333,
              "#9c179e"
             ],
             [
              0.4444444444444444,
              "#bd3786"
             ],
             [
              0.5555555555555556,
              "#d8576b"
             ],
             [
              0.6666666666666666,
              "#ed7953"
             ],
             [
              0.7777777777777778,
              "#fb9f3a"
             ],
             [
              0.8888888888888888,
              "#fdca26"
             ],
             [
              1,
              "#f0f921"
             ]
            ],
            "type": "heatmapgl"
           }
          ],
          "histogram": [
           {
            "marker": {
             "pattern": {
              "fillmode": "overlay",
              "size": 10,
              "solidity": 0.2
             }
            },
            "type": "histogram"
           }
          ],
          "histogram2d": [
           {
            "colorbar": {
             "outlinewidth": 0,
             "ticks": ""
            },
            "colorscale": [
             [
              0,
              "#0d0887"
             ],
             [
              0.1111111111111111,
              "#46039f"
             ],
             [
              0.2222222222222222,
              "#7201a8"
             ],
             [
              0.3333333333333333,
              "#9c179e"
             ],
             [
              0.4444444444444444,
              "#bd3786"
             ],
             [
              0.5555555555555556,
              "#d8576b"
             ],
             [
              0.6666666666666666,
              "#ed7953"
             ],
             [
              0.7777777777777778,
              "#fb9f3a"
             ],
             [
              0.8888888888888888,
              "#fdca26"
             ],
             [
              1,
              "#f0f921"
             ]
            ],
            "type": "histogram2d"
           }
          ],
          "histogram2dcontour": [
           {
            "colorbar": {
             "outlinewidth": 0,
             "ticks": ""
            },
            "colorscale": [
             [
              0,
              "#0d0887"
             ],
             [
              0.1111111111111111,
              "#46039f"
             ],
             [
              0.2222222222222222,
              "#7201a8"
             ],
             [
              0.3333333333333333,
              "#9c179e"
             ],
             [
              0.4444444444444444,
              "#bd3786"
             ],
             [
              0.5555555555555556,
              "#d8576b"
             ],
             [
              0.6666666666666666,
              "#ed7953"
             ],
             [
              0.7777777777777778,
              "#fb9f3a"
             ],
             [
              0.8888888888888888,
              "#fdca26"
             ],
             [
              1,
              "#f0f921"
             ]
            ],
            "type": "histogram2dcontour"
           }
          ],
          "mesh3d": [
           {
            "colorbar": {
             "outlinewidth": 0,
             "ticks": ""
            },
            "type": "mesh3d"
           }
          ],
          "parcoords": [
           {
            "line": {
             "colorbar": {
              "outlinewidth": 0,
              "ticks": ""
             }
            },
            "type": "parcoords"
           }
          ],
          "pie": [
           {
            "automargin": true,
            "type": "pie"
           }
          ],
          "scatter": [
           {
            "marker": {
             "colorbar": {
              "outlinewidth": 0,
              "ticks": ""
             }
            },
            "type": "scatter"
           }
          ],
          "scatter3d": [
           {
            "line": {
             "colorbar": {
              "outlinewidth": 0,
              "ticks": ""
             }
            },
            "marker": {
             "colorbar": {
              "outlinewidth": 0,
              "ticks": ""
             }
            },
            "type": "scatter3d"
           }
          ],
          "scattercarpet": [
           {
            "marker": {
             "colorbar": {
              "outlinewidth": 0,
              "ticks": ""
             }
            },
            "type": "scattercarpet"
           }
          ],
          "scattergeo": [
           {
            "marker": {
             "colorbar": {
              "outlinewidth": 0,
              "ticks": ""
             }
            },
            "type": "scattergeo"
           }
          ],
          "scattergl": [
           {
            "marker": {
             "colorbar": {
              "outlinewidth": 0,
              "ticks": ""
             }
            },
            "type": "scattergl"
           }
          ],
          "scattermapbox": [
           {
            "marker": {
             "colorbar": {
              "outlinewidth": 0,
              "ticks": ""
             }
            },
            "type": "scattermapbox"
           }
          ],
          "scatterpolar": [
           {
            "marker": {
             "colorbar": {
              "outlinewidth": 0,
              "ticks": ""
             }
            },
            "type": "scatterpolar"
           }
          ],
          "scatterpolargl": [
           {
            "marker": {
             "colorbar": {
              "outlinewidth": 0,
              "ticks": ""
             }
            },
            "type": "scatterpolargl"
           }
          ],
          "scatterternary": [
           {
            "marker": {
             "colorbar": {
              "outlinewidth": 0,
              "ticks": ""
             }
            },
            "type": "scatterternary"
           }
          ],
          "surface": [
           {
            "colorbar": {
             "outlinewidth": 0,
             "ticks": ""
            },
            "colorscale": [
             [
              0,
              "#0d0887"
             ],
             [
              0.1111111111111111,
              "#46039f"
             ],
             [
              0.2222222222222222,
              "#7201a8"
             ],
             [
              0.3333333333333333,
              "#9c179e"
             ],
             [
              0.4444444444444444,
              "#bd3786"
             ],
             [
              0.5555555555555556,
              "#d8576b"
             ],
             [
              0.6666666666666666,
              "#ed7953"
             ],
             [
              0.7777777777777778,
              "#fb9f3a"
             ],
             [
              0.8888888888888888,
              "#fdca26"
             ],
             [
              1,
              "#f0f921"
             ]
            ],
            "type": "surface"
           }
          ],
          "table": [
           {
            "cells": {
             "fill": {
              "color": "#EBF0F8"
             },
             "line": {
              "color": "white"
             }
            },
            "header": {
             "fill": {
              "color": "#C8D4E3"
             },
             "line": {
              "color": "white"
             }
            },
            "type": "table"
           }
          ]
         },
         "layout": {
          "annotationdefaults": {
           "arrowcolor": "#2a3f5f",
           "arrowhead": 0,
           "arrowwidth": 1
          },
          "autotypenumbers": "strict",
          "coloraxis": {
           "colorbar": {
            "outlinewidth": 0,
            "ticks": ""
           }
          },
          "colorscale": {
           "diverging": [
            [
             0,
             "#8e0152"
            ],
            [
             0.1,
             "#c51b7d"
            ],
            [
             0.2,
             "#de77ae"
            ],
            [
             0.3,
             "#f1b6da"
            ],
            [
             0.4,
             "#fde0ef"
            ],
            [
             0.5,
             "#f7f7f7"
            ],
            [
             0.6,
             "#e6f5d0"
            ],
            [
             0.7,
             "#b8e186"
            ],
            [
             0.8,
             "#7fbc41"
            ],
            [
             0.9,
             "#4d9221"
            ],
            [
             1,
             "#276419"
            ]
           ],
           "sequential": [
            [
             0,
             "#0d0887"
            ],
            [
             0.1111111111111111,
             "#46039f"
            ],
            [
             0.2222222222222222,
             "#7201a8"
            ],
            [
             0.3333333333333333,
             "#9c179e"
            ],
            [
             0.4444444444444444,
             "#bd3786"
            ],
            [
             0.5555555555555556,
             "#d8576b"
            ],
            [
             0.6666666666666666,
             "#ed7953"
            ],
            [
             0.7777777777777778,
             "#fb9f3a"
            ],
            [
             0.8888888888888888,
             "#fdca26"
            ],
            [
             1,
             "#f0f921"
            ]
           ],
           "sequentialminus": [
            [
             0,
             "#0d0887"
            ],
            [
             0.1111111111111111,
             "#46039f"
            ],
            [
             0.2222222222222222,
             "#7201a8"
            ],
            [
             0.3333333333333333,
             "#9c179e"
            ],
            [
             0.4444444444444444,
             "#bd3786"
            ],
            [
             0.5555555555555556,
             "#d8576b"
            ],
            [
             0.6666666666666666,
             "#ed7953"
            ],
            [
             0.7777777777777778,
             "#fb9f3a"
            ],
            [
             0.8888888888888888,
             "#fdca26"
            ],
            [
             1,
             "#f0f921"
            ]
           ]
          },
          "colorway": [
           "#636efa",
           "#EF553B",
           "#00cc96",
           "#ab63fa",
           "#FFA15A",
           "#19d3f3",
           "#FF6692",
           "#B6E880",
           "#FF97FF",
           "#FECB52"
          ],
          "font": {
           "color": "#2a3f5f"
          },
          "geo": {
           "bgcolor": "white",
           "lakecolor": "white",
           "landcolor": "#E5ECF6",
           "showlakes": true,
           "showland": true,
           "subunitcolor": "white"
          },
          "hoverlabel": {
           "align": "left"
          },
          "hovermode": "closest",
          "mapbox": {
           "style": "light"
          },
          "paper_bgcolor": "white",
          "plot_bgcolor": "#E5ECF6",
          "polar": {
           "angularaxis": {
            "gridcolor": "white",
            "linecolor": "white",
            "ticks": ""
           },
           "bgcolor": "#E5ECF6",
           "radialaxis": {
            "gridcolor": "white",
            "linecolor": "white",
            "ticks": ""
           }
          },
          "scene": {
           "xaxis": {
            "backgroundcolor": "#E5ECF6",
            "gridcolor": "white",
            "gridwidth": 2,
            "linecolor": "white",
            "showbackground": true,
            "ticks": "",
            "zerolinecolor": "white"
           },
           "yaxis": {
            "backgroundcolor": "#E5ECF6",
            "gridcolor": "white",
            "gridwidth": 2,
            "linecolor": "white",
            "showbackground": true,
            "ticks": "",
            "zerolinecolor": "white"
           },
           "zaxis": {
            "backgroundcolor": "#E5ECF6",
            "gridcolor": "white",
            "gridwidth": 2,
            "linecolor": "white",
            "showbackground": true,
            "ticks": "",
            "zerolinecolor": "white"
           }
          },
          "shapedefaults": {
           "line": {
            "color": "#2a3f5f"
           }
          },
          "ternary": {
           "aaxis": {
            "gridcolor": "white",
            "linecolor": "white",
            "ticks": ""
           },
           "baxis": {
            "gridcolor": "white",
            "linecolor": "white",
            "ticks": ""
           },
           "bgcolor": "#E5ECF6",
           "caxis": {
            "gridcolor": "white",
            "linecolor": "white",
            "ticks": ""
           }
          },
          "title": {
           "x": 0.05
          },
          "xaxis": {
           "automargin": true,
           "gridcolor": "white",
           "linecolor": "white",
           "ticks": "",
           "title": {
            "standoff": 15
           },
           "zerolinecolor": "white",
           "zerolinewidth": 2
          },
          "yaxis": {
           "automargin": true,
           "gridcolor": "white",
           "linecolor": "white",
           "ticks": "",
           "title": {
            "standoff": 15
           },
           "zerolinecolor": "white",
           "zerolinewidth": 2
          }
         }
        }
       }
      }
     },
     "metadata": {},
     "output_type": "display_data"
    }
   ],
   "source": [
    "figure = go.Figure(go.Funnel(\n",
    "    y = ga_final_1.columns[1:],\n",
    "    x = ga_final_1.iloc[0][1:])\n",
    "  )\n",
    "  \n",
    "figure.show()"
   ]
  },
  {
   "cell_type": "code",
   "execution_count": 24,
   "metadata": {},
   "outputs": [],
   "source": [
    "g = go.FigureWidget(data=figure,\n",
    "                    layout=go.Layout(\n",
    "                        title=dict(\n",
    "                            text='NYC FlightDatabase'\n",
    "                        )\n",
    "                    ))"
   ]
  },
  {
   "cell_type": "code",
   "execution_count": 25,
   "metadata": {},
   "outputs": [],
   "source": [
    "# Let now write a function that will handle the input from the widgets, and alter the state of the graph.\n",
    "\n",
    "\n",
    "def response(change):\n",
    "  temp_df = ga_final_1[ga_final_1['campaignTitle'] == campaignName.value]\n",
    "\n",
    "  x_ = temp_df.iloc[0][1:]\n",
    "  with g.batch_update():\n",
    "      g.data[0].x = x_\n",
    "      g.layout.xaxis.title = 'Steps'\n",
    "      g.layout.title =  'Funnel of campaign: ' + campaignName.value\n",
    "\n",
    "campaignName.observe(response, names=\"value\")\n"
   ]
  },
  {
   "cell_type": "code",
   "execution_count": 26,
   "metadata": {},
   "outputs": [],
   "source": [
    "container = widgets.HBox([widgets.Label(value=\"Campaign name: \"),campaignName])\n",
    "\n",
    "\n",
    "final_fig = widgets.VBox([container,\n",
    "              g])"
   ]
  },
  {
   "cell_type": "code",
   "execution_count": 27,
   "metadata": {},
   "outputs": [
    {
     "data": {
      "application/vnd.jupyter.widget-view+json": {
       "model_id": "2d820875a0f740f68a837587ccd4ebd3",
       "version_major": 2,
       "version_minor": 0
      },
      "text/plain": [
       "VBox(children=(HBox(children=(Label(value='Campaign name: '), Dropdown(options=('GenkiBox Beta Test NFT Giveaw…"
      ]
     },
     "metadata": {},
     "output_type": "display_data"
    }
   ],
   "source": [
    "final_fig"
   ]
  },
  {
   "cell_type": "code",
   "execution_count": 28,
   "metadata": {},
   "outputs": [],
   "source": [
    "embed_minimal_html('funnel.html', views=[final_fig], title='Widgets export')"
   ]
  },
  {
   "cell_type": "code",
   "execution_count": 29,
   "metadata": {},
   "outputs": [
    {
     "data": {
      "text/plain": [
       "ipywidgets.widgets.widget_box.VBox"
      ]
     },
     "execution_count": 29,
     "metadata": {},
     "output_type": "execute_result"
    }
   ],
   "source": [
    "type(final_fig)"
   ]
  },
  {
   "cell_type": "code",
   "execution_count": 38,
   "metadata": {},
   "outputs": [
    {
     "data": {
      "application/vnd.jupyter.widget-view+json": {
       "model_id": "2d820875a0f740f68a837587ccd4ebd3",
       "version_major": 2,
       "version_minor": 0
      },
      "text/plain": [
       "VBox(children=(HBox(children=(Label(value='Campaign name: '), Dropdown(index=5, options=('GenkiBox Beta Test N…"
      ]
     },
     "metadata": {},
     "output_type": "display_data"
    }
   ],
   "source": [
    "final_fig"
   ]
  },
  {
   "cell_type": "code",
   "execution_count": 44,
   "metadata": {},
   "outputs": [
    {
     "data": {
      "application/vnd.plotly.v1+json": {
       "config": {
        "plotlyServerURL": "https://plot.ly"
       },
       "data": [
        {
         "domain": {
          "x": [
           0,
           0.5
          ],
          "y": [
           0,
           0.5
          ]
         },
         "textinfo": "value",
         "title": {
          "position": "top center",
          "text": "Sales for Sale Person A in U.S."
         },
         "type": "funnelarea",
         "values": [
          500,
          450,
          340,
          230,
          220,
          110
         ]
        },
        {
         "domain": {
          "x": [
           0,
           0.5
          ],
          "y": [
           0.55,
           1
          ]
         },
         "textinfo": "value",
         "title": {
          "position": "top center",
          "text": "Sales of Sale Person B in Canada"
         },
         "type": "funnelarea",
         "values": [
          600,
          500,
          400,
          300,
          200,
          100
         ]
        }
       ],
       "layout": {
        "template": {
         "data": {
          "bar": [
           {
            "error_x": {
             "color": "#2a3f5f"
            },
            "error_y": {
             "color": "#2a3f5f"
            },
            "marker": {
             "line": {
              "color": "#E5ECF6",
              "width": 0.5
             },
             "pattern": {
              "fillmode": "overlay",
              "size": 10,
              "solidity": 0.2
             }
            },
            "type": "bar"
           }
          ],
          "barpolar": [
           {
            "marker": {
             "line": {
              "color": "#E5ECF6",
              "width": 0.5
             },
             "pattern": {
              "fillmode": "overlay",
              "size": 10,
              "solidity": 0.2
             }
            },
            "type": "barpolar"
           }
          ],
          "carpet": [
           {
            "aaxis": {
             "endlinecolor": "#2a3f5f",
             "gridcolor": "white",
             "linecolor": "white",
             "minorgridcolor": "white",
             "startlinecolor": "#2a3f5f"
            },
            "baxis": {
             "endlinecolor": "#2a3f5f",
             "gridcolor": "white",
             "linecolor": "white",
             "minorgridcolor": "white",
             "startlinecolor": "#2a3f5f"
            },
            "type": "carpet"
           }
          ],
          "choropleth": [
           {
            "colorbar": {
             "outlinewidth": 0,
             "ticks": ""
            },
            "type": "choropleth"
           }
          ],
          "contour": [
           {
            "colorbar": {
             "outlinewidth": 0,
             "ticks": ""
            },
            "colorscale": [
             [
              0,
              "#0d0887"
             ],
             [
              0.1111111111111111,
              "#46039f"
             ],
             [
              0.2222222222222222,
              "#7201a8"
             ],
             [
              0.3333333333333333,
              "#9c179e"
             ],
             [
              0.4444444444444444,
              "#bd3786"
             ],
             [
              0.5555555555555556,
              "#d8576b"
             ],
             [
              0.6666666666666666,
              "#ed7953"
             ],
             [
              0.7777777777777778,
              "#fb9f3a"
             ],
             [
              0.8888888888888888,
              "#fdca26"
             ],
             [
              1,
              "#f0f921"
             ]
            ],
            "type": "contour"
           }
          ],
          "contourcarpet": [
           {
            "colorbar": {
             "outlinewidth": 0,
             "ticks": ""
            },
            "type": "contourcarpet"
           }
          ],
          "heatmap": [
           {
            "colorbar": {
             "outlinewidth": 0,
             "ticks": ""
            },
            "colorscale": [
             [
              0,
              "#0d0887"
             ],
             [
              0.1111111111111111,
              "#46039f"
             ],
             [
              0.2222222222222222,
              "#7201a8"
             ],
             [
              0.3333333333333333,
              "#9c179e"
             ],
             [
              0.4444444444444444,
              "#bd3786"
             ],
             [
              0.5555555555555556,
              "#d8576b"
             ],
             [
              0.6666666666666666,
              "#ed7953"
             ],
             [
              0.7777777777777778,
              "#fb9f3a"
             ],
             [
              0.8888888888888888,
              "#fdca26"
             ],
             [
              1,
              "#f0f921"
             ]
            ],
            "type": "heatmap"
           }
          ],
          "heatmapgl": [
           {
            "colorbar": {
             "outlinewidth": 0,
             "ticks": ""
            },
            "colorscale": [
             [
              0,
              "#0d0887"
             ],
             [
              0.1111111111111111,
              "#46039f"
             ],
             [
              0.2222222222222222,
              "#7201a8"
             ],
             [
              0.3333333333333333,
              "#9c179e"
             ],
             [
              0.4444444444444444,
              "#bd3786"
             ],
             [
              0.5555555555555556,
              "#d8576b"
             ],
             [
              0.6666666666666666,
              "#ed7953"
             ],
             [
              0.7777777777777778,
              "#fb9f3a"
             ],
             [
              0.8888888888888888,
              "#fdca26"
             ],
             [
              1,
              "#f0f921"
             ]
            ],
            "type": "heatmapgl"
           }
          ],
          "histogram": [
           {
            "marker": {
             "pattern": {
              "fillmode": "overlay",
              "size": 10,
              "solidity": 0.2
             }
            },
            "type": "histogram"
           }
          ],
          "histogram2d": [
           {
            "colorbar": {
             "outlinewidth": 0,
             "ticks": ""
            },
            "colorscale": [
             [
              0,
              "#0d0887"
             ],
             [
              0.1111111111111111,
              "#46039f"
             ],
             [
              0.2222222222222222,
              "#7201a8"
             ],
             [
              0.3333333333333333,
              "#9c179e"
             ],
             [
              0.4444444444444444,
              "#bd3786"
             ],
             [
              0.5555555555555556,
              "#d8576b"
             ],
             [
              0.6666666666666666,
              "#ed7953"
             ],
             [
              0.7777777777777778,
              "#fb9f3a"
             ],
             [
              0.8888888888888888,
              "#fdca26"
             ],
             [
              1,
              "#f0f921"
             ]
            ],
            "type": "histogram2d"
           }
          ],
          "histogram2dcontour": [
           {
            "colorbar": {
             "outlinewidth": 0,
             "ticks": ""
            },
            "colorscale": [
             [
              0,
              "#0d0887"
             ],
             [
              0.1111111111111111,
              "#46039f"
             ],
             [
              0.2222222222222222,
              "#7201a8"
             ],
             [
              0.3333333333333333,
              "#9c179e"
             ],
             [
              0.4444444444444444,
              "#bd3786"
             ],
             [
              0.5555555555555556,
              "#d8576b"
             ],
             [
              0.6666666666666666,
              "#ed7953"
             ],
             [
              0.7777777777777778,
              "#fb9f3a"
             ],
             [
              0.8888888888888888,
              "#fdca26"
             ],
             [
              1,
              "#f0f921"
             ]
            ],
            "type": "histogram2dcontour"
           }
          ],
          "mesh3d": [
           {
            "colorbar": {
             "outlinewidth": 0,
             "ticks": ""
            },
            "type": "mesh3d"
           }
          ],
          "parcoords": [
           {
            "line": {
             "colorbar": {
              "outlinewidth": 0,
              "ticks": ""
             }
            },
            "type": "parcoords"
           }
          ],
          "pie": [
           {
            "automargin": true,
            "type": "pie"
           }
          ],
          "scatter": [
           {
            "marker": {
             "colorbar": {
              "outlinewidth": 0,
              "ticks": ""
             }
            },
            "type": "scatter"
           }
          ],
          "scatter3d": [
           {
            "line": {
             "colorbar": {
              "outlinewidth": 0,
              "ticks": ""
             }
            },
            "marker": {
             "colorbar": {
              "outlinewidth": 0,
              "ticks": ""
             }
            },
            "type": "scatter3d"
           }
          ],
          "scattercarpet": [
           {
            "marker": {
             "colorbar": {
              "outlinewidth": 0,
              "ticks": ""
             }
            },
            "type": "scattercarpet"
           }
          ],
          "scattergeo": [
           {
            "marker": {
             "colorbar": {
              "outlinewidth": 0,
              "ticks": ""
             }
            },
            "type": "scattergeo"
           }
          ],
          "scattergl": [
           {
            "marker": {
             "colorbar": {
              "outlinewidth": 0,
              "ticks": ""
             }
            },
            "type": "scattergl"
           }
          ],
          "scattermapbox": [
           {
            "marker": {
             "colorbar": {
              "outlinewidth": 0,
              "ticks": ""
             }
            },
            "type": "scattermapbox"
           }
          ],
          "scatterpolar": [
           {
            "marker": {
             "colorbar": {
              "outlinewidth": 0,
              "ticks": ""
             }
            },
            "type": "scatterpolar"
           }
          ],
          "scatterpolargl": [
           {
            "marker": {
             "colorbar": {
              "outlinewidth": 0,
              "ticks": ""
             }
            },
            "type": "scatterpolargl"
           }
          ],
          "scatterternary": [
           {
            "marker": {
             "colorbar": {
              "outlinewidth": 0,
              "ticks": ""
             }
            },
            "type": "scatterternary"
           }
          ],
          "surface": [
           {
            "colorbar": {
             "outlinewidth": 0,
             "ticks": ""
            },
            "colorscale": [
             [
              0,
              "#0d0887"
             ],
             [
              0.1111111111111111,
              "#46039f"
             ],
             [
              0.2222222222222222,
              "#7201a8"
             ],
             [
              0.3333333333333333,
              "#9c179e"
             ],
             [
              0.4444444444444444,
              "#bd3786"
             ],
             [
              0.5555555555555556,
              "#d8576b"
             ],
             [
              0.6666666666666666,
              "#ed7953"
             ],
             [
              0.7777777777777778,
              "#fb9f3a"
             ],
             [
              0.8888888888888888,
              "#fdca26"
             ],
             [
              1,
              "#f0f921"
             ]
            ],
            "type": "surface"
           }
          ],
          "table": [
           {
            "cells": {
             "fill": {
              "color": "#EBF0F8"
             },
             "line": {
              "color": "white"
             }
            },
            "header": {
             "fill": {
              "color": "#C8D4E3"
             },
             "line": {
              "color": "white"
             }
            },
            "type": "table"
           }
          ]
         },
         "layout": {
          "annotationdefaults": {
           "arrowcolor": "#2a3f5f",
           "arrowhead": 0,
           "arrowwidth": 1
          },
          "autotypenumbers": "strict",
          "coloraxis": {
           "colorbar": {
            "outlinewidth": 0,
            "ticks": ""
           }
          },
          "colorscale": {
           "diverging": [
            [
             0,
             "#8e0152"
            ],
            [
             0.1,
             "#c51b7d"
            ],
            [
             0.2,
             "#de77ae"
            ],
            [
             0.3,
             "#f1b6da"
            ],
            [
             0.4,
             "#fde0ef"
            ],
            [
             0.5,
             "#f7f7f7"
            ],
            [
             0.6,
             "#e6f5d0"
            ],
            [
             0.7,
             "#b8e186"
            ],
            [
             0.8,
             "#7fbc41"
            ],
            [
             0.9,
             "#4d9221"
            ],
            [
             1,
             "#276419"
            ]
           ],
           "sequential": [
            [
             0,
             "#0d0887"
            ],
            [
             0.1111111111111111,
             "#46039f"
            ],
            [
             0.2222222222222222,
             "#7201a8"
            ],
            [
             0.3333333333333333,
             "#9c179e"
            ],
            [
             0.4444444444444444,
             "#bd3786"
            ],
            [
             0.5555555555555556,
             "#d8576b"
            ],
            [
             0.6666666666666666,
             "#ed7953"
            ],
            [
             0.7777777777777778,
             "#fb9f3a"
            ],
            [
             0.8888888888888888,
             "#fdca26"
            ],
            [
             1,
             "#f0f921"
            ]
           ],
           "sequentialminus": [
            [
             0,
             "#0d0887"
            ],
            [
             0.1111111111111111,
             "#46039f"
            ],
            [
             0.2222222222222222,
             "#7201a8"
            ],
            [
             0.3333333333333333,
             "#9c179e"
            ],
            [
             0.4444444444444444,
             "#bd3786"
            ],
            [
             0.5555555555555556,
             "#d8576b"
            ],
            [
             0.6666666666666666,
             "#ed7953"
            ],
            [
             0.7777777777777778,
             "#fb9f3a"
            ],
            [
             0.8888888888888888,
             "#fdca26"
            ],
            [
             1,
             "#f0f921"
            ]
           ]
          },
          "colorway": [
           "#636efa",
           "#EF553B",
           "#00cc96",
           "#ab63fa",
           "#FFA15A",
           "#19d3f3",
           "#FF6692",
           "#B6E880",
           "#FF97FF",
           "#FECB52"
          ],
          "font": {
           "color": "#2a3f5f"
          },
          "geo": {
           "bgcolor": "white",
           "lakecolor": "white",
           "landcolor": "#E5ECF6",
           "showlakes": true,
           "showland": true,
           "subunitcolor": "white"
          },
          "hoverlabel": {
           "align": "left"
          },
          "hovermode": "closest",
          "mapbox": {
           "style": "light"
          },
          "paper_bgcolor": "white",
          "plot_bgcolor": "#E5ECF6",
          "polar": {
           "angularaxis": {
            "gridcolor": "white",
            "linecolor": "white",
            "ticks": ""
           },
           "bgcolor": "#E5ECF6",
           "radialaxis": {
            "gridcolor": "white",
            "linecolor": "white",
            "ticks": ""
           }
          },
          "scene": {
           "xaxis": {
            "backgroundcolor": "#E5ECF6",
            "gridcolor": "white",
            "gridwidth": 2,
            "linecolor": "white",
            "showbackground": true,
            "ticks": "",
            "zerolinecolor": "white"
           },
           "yaxis": {
            "backgroundcolor": "#E5ECF6",
            "gridcolor": "white",
            "gridwidth": 2,
            "linecolor": "white",
            "showbackground": true,
            "ticks": "",
            "zerolinecolor": "white"
           },
           "zaxis": {
            "backgroundcolor": "#E5ECF6",
            "gridcolor": "white",
            "gridwidth": 2,
            "linecolor": "white",
            "showbackground": true,
            "ticks": "",
            "zerolinecolor": "white"
           }
          },
          "shapedefaults": {
           "line": {
            "color": "#2a3f5f"
           }
          },
          "ternary": {
           "aaxis": {
            "gridcolor": "white",
            "linecolor": "white",
            "ticks": ""
           },
           "baxis": {
            "gridcolor": "white",
            "linecolor": "white",
            "ticks": ""
           },
           "bgcolor": "#E5ECF6",
           "caxis": {
            "gridcolor": "white",
            "linecolor": "white",
            "ticks": ""
           }
          },
          "title": {
           "x": 0.05
          },
          "xaxis": {
           "automargin": true,
           "gridcolor": "white",
           "linecolor": "white",
           "ticks": "",
           "title": {
            "standoff": 15
           },
           "zerolinecolor": "white",
           "zerolinewidth": 2
          },
          "yaxis": {
           "automargin": true,
           "gridcolor": "white",
           "linecolor": "white",
           "ticks": "",
           "title": {
            "standoff": 15
           },
           "zerolinecolor": "white",
           "zerolinewidth": 2
          }
         }
        }
       }
      }
     },
     "metadata": {},
     "output_type": "display_data"
    }
   ],
   "source": [
    "fig = go.Figure()\n",
    "\n",
    "\n",
    "fig = go.Figure()\n",
    "\n",
    "fig.add_trace(go.Funnelarea(values = [500, 450, 340, 230, 220, 110], textinfo = \"value\",\n",
    "    title = {\"position\": \"top center\", \"text\": \"Sales for Sale Person A in U.S.\"},\n",
    "    domain = {\"x\": [0, 0.5], \"y\": [0, 0.5]}))\n",
    "\n",
    "fig.add_trace(go.Funnelarea(values = [600, 500, 400, 300, 200, 100], textinfo = \"value\",\n",
    "    title = {\"position\": \"top center\", \"text\": \"Sales of Sale Person B in Canada\"},\n",
    "    domain = {\"x\": [0, 0.5], \"y\": [0.55, 1]}))\n",
    "\n",
    "\n",
    "fig.show(\n",
    "\n",
    ")"
   ]
  },
  {
   "cell_type": "code",
   "execution_count": null,
   "metadata": {},
   "outputs": [],
   "source": []
  }
 ],
 "metadata": {
  "kernelspec": {
   "display_name": "Python 3.8.13 ('musa-550-fall-2021')",
   "language": "python",
   "name": "python3"
  },
  "language_info": {
   "codemirror_mode": {
    "name": "ipython",
    "version": 3
   },
   "file_extension": ".py",
   "mimetype": "text/x-python",
   "name": "python",
   "nbconvert_exporter": "python",
   "pygments_lexer": "ipython3",
   "version": "3.8.13"
  },
  "orig_nbformat": 4,
  "vscode": {
   "interpreter": {
    "hash": "0ff3f0ed905d9928a3f2adc8dab37d3e44c4928b87c9d1168d8bb459323b9450"
   }
  }
 },
 "nbformat": 4,
 "nbformat_minor": 2
}
